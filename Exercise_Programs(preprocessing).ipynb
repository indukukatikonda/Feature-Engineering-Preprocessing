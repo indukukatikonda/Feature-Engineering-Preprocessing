{
  "nbformat": 4,
  "nbformat_minor": 0,
  "metadata": {
    "colab": {
      "provenance": []
    },
    "kernelspec": {
      "name": "python3",
      "display_name": "Python 3"
    },
    "language_info": {
      "name": "python"
    }
  },
  "cells": [
    {
      "cell_type": "code",
      "execution_count": null,
      "metadata": {
        "colab": {
          "base_uri": "https://localhost:8080/"
        },
        "id": "tQV7O8TOtv79",
        "outputId": "7cbbbe75-b7fe-4e13-ed78-88fdabf811d3"
      },
      "outputs": [
        {
          "output_type": "stream",
          "name": "stdout",
          "text": [
            "Mean: 3.0\n",
            "Variance: 2.0\n"
          ]
        }
      ],
      "source": [
        "import numpy as np\n",
        "\n",
        "# Create a 1xN dimensional vector\n",
        "vector = np.array([1, 2, 3, 4, 5])\n",
        "\n",
        "# Compute the mean\n",
        "mean = np.mean(vector)\n",
        "\n",
        "# Compute the variance\n",
        "variance = np.var(vector)\n",
        "\n",
        "print(f\"Mean: {mean}\")\n",
        "print(f\"Variance: {variance}\")\n"
      ]
    },
    {
      "cell_type": "code",
      "source": [
        "import numpy as np\n",
        "\n",
        "# Create two 1xM dimensional vectors\n",
        "vector1 = np.array([1, 2, 3, 4, 5])\n",
        "vector2 = np.array([2, 4, 6, 8, 10])\n",
        "\n",
        "# Compute the covariance\n",
        "covariance = np.cov(vector1, vector2)[0, 1]\n",
        "\n",
        "print(f\"Covariance: {covariance}\")\n"
      ],
      "metadata": {
        "colab": {
          "base_uri": "https://localhost:8080/"
        },
        "id": "6sULHUvnvMR0",
        "outputId": "1bf2101a-da57-4ad0-c32b-f21691bc64a4"
      },
      "execution_count": null,
      "outputs": [
        {
          "output_type": "stream",
          "name": "stdout",
          "text": [
            "Covariance: 5.0\n"
          ]
        }
      ]
    },
    {
      "cell_type": "code",
      "source": [
        "import numpy as np\n",
        "\n",
        "# Create two 1xN dimensional vectors\n",
        "vector1 = np.array([1, 2, 3, 4, 5])\n",
        "vector2 = np.array([2, 4, 6, 8, 10])\n",
        "\n",
        "# Compute the correlation\n",
        "correlation = np.corrcoef(vector1, vector2)[0, 1]\n",
        "\n",
        "print(f\"Correlation: {correlation}\")\n"
      ],
      "metadata": {
        "colab": {
          "base_uri": "https://localhost:8080/"
        },
        "id": "GBnIDA9hvQXY",
        "outputId": "06015268-ec13-421a-c440-c4f7dfd0883e"
      },
      "execution_count": null,
      "outputs": [
        {
          "output_type": "stream",
          "name": "stdout",
          "text": [
            "Correlation: 0.9999999999999999\n"
          ]
        }
      ]
    },
    {
      "cell_type": "code",
      "source": [
        "import numpy as np\n",
        "\n",
        "# Create an MxN dimensional matrix\n",
        "matrix = np.array([[1, 2, 3], [4, 5, 6], [7, 8, 9]])\n",
        "\n",
        "# Compute the covariance matrix\n",
        "cov_matrix = np.cov(matrix, rowvar=False)\n",
        "\n",
        "# Compute the correlation matrix\n",
        "corr_matrix = np.corrcoef(matrix, rowvar=False)\n",
        "\n",
        "print(f\"Covariance Matrix:\\n{cov_matrix}\")\n",
        "print(f\"Correlation Matrix:\\n{corr_matrix}\")\n"
      ],
      "metadata": {
        "id": "nkoCqcR7vVpz",
        "outputId": "1951aa62-55b6-44fa-d427-5757cd45e00e",
        "colab": {
          "base_uri": "https://localhost:8080/"
        }
      },
      "execution_count": null,
      "outputs": [
        {
          "output_type": "stream",
          "name": "stdout",
          "text": [
            "Covariance Matrix:\n",
            "[[9. 9. 9.]\n",
            " [9. 9. 9.]\n",
            " [9. 9. 9.]]\n",
            "Correlation Matrix:\n",
            "[[1. 1. 1.]\n",
            " [1. 1. 1.]\n",
            " [1. 1. 1.]]\n"
          ]
        }
      ]
    }
  ]
}